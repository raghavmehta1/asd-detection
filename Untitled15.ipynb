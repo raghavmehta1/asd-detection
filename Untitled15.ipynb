{
  "nbformat": 4,
  "nbformat_minor": 0,
  "metadata": {
    "colab": {
      "provenance": []
    },
    "kernelspec": {
      "name": "python3",
      "display_name": "Python 3"
    },
    "language_info": {
      "name": "python"
    }
  },
  "cells": [
    {
      "cell_type": "code",
      "execution_count": 1,
      "metadata": {
        "colab": {
          "base_uri": "https://localhost:8080/"
        },
        "id": "C7_For1dr35K",
        "outputId": "ee9fab53-7b83-4001-974e-9b223038633a"
      },
      "outputs": [
        {
          "output_type": "stream",
          "name": "stdout",
          "text": [
            "Accuracy for KNN: 0.9620853080568721\n",
            "Recall for KNN: 0.9577464788732394\n",
            "Accuracy for Random Forest: 1.0\n",
            "Recall for Random Forest: 1.0\n",
            "Accuracy for KNN + Random Forest ensemble: 0.990521327014218\n",
            "Recall for KNN + Random Forest ensemble: 0.9859154929577465\n"
          ]
        }
      ],
      "source": [
        "import pandas as pd\n",
        "import seaborn as sns\n",
        "import matplotlib.pyplot as plt\n",
        "from sklearn.preprocessing import LabelEncoder, OneHotEncoder, StandardScaler\n",
        "from sklearn.model_selection import train_test_split\n",
        "from sklearn.neighbors import KNeighborsClassifier\n",
        "from sklearn.ensemble import RandomForestClassifier, VotingClassifier\n",
        "from sklearn import metrics\n",
        "from sklearn.compose import ColumnTransformer\n",
        "from sklearn.pipeline import Pipeline\n",
        "\n",
        "# Read the dataset\n",
        "df = pd.read_csv('dataset.csv')\n",
        "\n",
        "# Preprocess the dataset\n",
        "data1 = df.drop(['Case_No', 'Sex', 'Ethnicity'], axis=1)\n",
        "data1 = data1.rename(columns={\"Class/ASD Traits\": \"Class\"})\n",
        "\n",
        "# Encode categorical string values\n",
        "le = LabelEncoder()\n",
        "for col in data1.columns:\n",
        "    if data1[col].dtype == 'object':\n",
        "        data1[col] = le.fit_transform(data1[col])\n",
        "\n",
        "le1 = LabelEncoder()\n",
        "df['Sex'] = le1.fit_transform(df['Sex'])\n",
        "df['Ethnicity'] = le1.fit_transform(df['Ethnicity'])\n",
        "\n",
        "ip = data1.drop(['Class'], axis=1)\n",
        "op = data1['Class']\n",
        "\n",
        "categorical_features = [0, 1]  # Indices of categorical features\n",
        "numerical_features = list(range(2, ip.shape[1]))  # Indices of numerical features\n",
        "\n",
        "preprocessor = ColumnTransformer(\n",
        "    transformers=[\n",
        "        ('cat', OneHotEncoder(), categorical_features),\n",
        "        ('num', StandardScaler(), numerical_features)\n",
        "    ])\n",
        "\n",
        "pipeline = Pipeline(steps=[('preprocessor', preprocessor)])\n",
        "ip = pipeline.fit_transform(ip)\n",
        "\n",
        "# Split the data into training and testing sets\n",
        "\n",
        "X_train, X_test, y_train, y_test = train_test_split(ip, op, test_size=0.2, random_state=42)\n",
        "\n",
        "# Train the models\n",
        "# ... (rest of the code remains the same) ...\n",
        "# Standardize the numerical features\n",
        "sc = StandardScaler()\n",
        "X_train = sc.fit_transform(X_train)\n",
        "X_test = sc.transform(X_test)\n",
        "\n",
        "# Train the KNN model\n",
        "knn = KNeighborsClassifier(n_neighbors=3)\n",
        "knn.fit(X_train, y_train)\n",
        "y_pred_knn = knn.predict(X_test)\n",
        "accuracy_knn = metrics.accuracy_score(y_test, y_pred_knn)\n",
        "recall_knn = metrics.recall_score(y_test, y_pred_knn)\n",
        "print(\"Accuracy for KNN:\", accuracy_knn)\n",
        "print(\"Recall for KNN:\", recall_knn)\n",
        "\n",
        "# Train the Random Forest model\n",
        "rf = RandomForestClassifier()\n",
        "rf.fit(X_train, y_train)\n",
        "y_pred_rf = rf.predict(X_test)\n",
        "accuracy_rf = metrics.accuracy_score(y_test, y_pred_rf)\n",
        "recall_rf = metrics.recall_score(y_test, y_pred_rf)\n",
        "print(\"Accuracy for Random Forest:\", accuracy_rf)\n",
        "print(\"Recall for Random Forest:\", recall_rf)\n",
        "\n",
        "# Hybrid model (KNN + Random Forest)\n",
        "ensemble = VotingClassifier(estimators=[('knn', knn), ('rf', rf)], voting='soft')\n",
        "ensemble.fit(X_train, y_train)\n",
        "y_pred_ensemble = ensemble.predict(X_test)\n",
        "accuracy_ensemble = metrics.accuracy_score(y_test, y_pred_ensemble)\n",
        "recall_ensemble = metrics.recall_score(y_test, y_pred_ensemble)\n",
        "print(\"Accuracy for KNN + Random Forest ensemble:\", accuracy_ensemble)\n",
        "print(\"Recall for KNN + Random Forest ensemble:\", recall_ensemble)"
      ]
    }
  ]
}